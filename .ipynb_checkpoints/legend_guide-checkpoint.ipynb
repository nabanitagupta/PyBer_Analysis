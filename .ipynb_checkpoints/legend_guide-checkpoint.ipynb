{
 "cells": [
  {
   "cell_type": "code",
   "execution_count": null,
   "metadata": {},
   "outputs": [],
   "source": [
    "%matplotlib inline"
   ]
  },
  {
   "cell_type": "markdown",
   "metadata": {},
   "source": [
    "\n",
    "# Legend guide\n",
    "\n",
    "\n",
    "Generating legends flexibly in Matplotlib.\n",
    "\n",
    ".. currentmodule:: matplotlib.pyplot\n",
    "\n",
    "This legend guide is an extension of the documentation available at\n",
    ":func:`~matplotlib.pyplot.legend` - please ensure you are familiar with\n",
    "contents of that documentation before proceeding with this guide.\n",
    "\n",
    "\n",
    "This guide makes use of some common terms, which are documented here for clarity:\n",
    "\n",
    ".. glossary::\n",
    "\n",
    "    legend entry\n",
    "        A legend is made up of one or more legend entries. An entry is made up of\n",
    "        exactly one key and one label.\n",
    "\n",
    "    legend key\n",
    "        The colored/patterned marker to the left of each legend label.\n",
    "\n",
    "    legend label\n",
    "        The text which describes the handle represented by the key.\n",
    "\n",
    "    legend handle\n",
    "        The original object which is used to generate an appropriate entry in\n",
    "        the legend.\n",
    "\n",
    "\n",
    "Controlling the legend entries\n",
    "==============================\n",
    "\n",
    "Calling :func:`legend` with no arguments automatically fetches the legend\n",
    "handles and their associated labels. This functionality is equivalent to::\n",
    "\n",
    "    handles, labels = ax.get_legend_handles_labels()\n",
    "    ax.legend(handles, labels)\n",
    "\n",
    "The :meth:`~matplotlib.axes.Axes.get_legend_handles_labels` function returns\n",
    "a list of handles/artists which exist on the Axes which can be used to\n",
    "generate entries for the resulting legend - it is worth noting however that\n",
    "not all artists can be added to a legend, at which point a \"proxy\" will have\n",
    "to be created (see `proxy_legend_handles` for further details).\n",
    "\n",
    "For full control of what is being added to the legend, it is common to pass\n",
    "the appropriate handles directly to :func:`legend`::\n",
    "\n",
    "    line_up, = plt.plot([1,2,3], label='Line 2')\n",
    "    line_down, = plt.plot([3,2,1], label='Line 1')\n",
    "    plt.legend(handles=[line_up, line_down])\n",
    "\n",
    "In some cases, it is not possible to set the label of the handle, so it is\n",
    "possible to pass through the list of labels to :func:`legend`::\n",
    "\n",
    "    line_up, = plt.plot([1,2,3], label='Line 2')\n",
    "    line_down, = plt.plot([3,2,1], label='Line 1')\n",
    "    plt.legend([line_up, line_down], ['Line Up', 'Line Down'])\n",
    "\n",
    "\n",
    "\n",
    "Creating artists specifically for adding to the legend (aka. Proxy artists)\n",
    "===========================================================================\n",
    "\n",
    "Not all handles can be turned into legend entries automatically,\n",
    "so it is often necessary to create an artist which *can*. Legend handles\n",
    "don't have to exists on the Figure or Axes in order to be used.\n",
    "\n",
    "Suppose we wanted to create a legend which has an entry for some data which\n",
    "is represented by a red color:\n"
   ]
  },
  {
   "cell_type": "code",
   "execution_count": null,
   "metadata": {},
   "outputs": [],
   "source": [
    "import matplotlib.patches as mpatches\n",
    "import matplotlib.pyplot as plt\n",
    "\n",
    "red_patch = mpatches.Patch(color='red', label='The red data')\n",
    "plt.legend(handles=[red_patch])\n",
    "\n",
    "plt.show()"
   ]
  },
  {
   "cell_type": "markdown",
   "metadata": {},
   "source": [
    "There are many supported legend handles, instead of creating a patch of color\n",
    "we could have created a line with a marker:\n",
    "\n"
   ]
  },
  {
   "cell_type": "code",
   "execution_count": null,
   "metadata": {},
   "outputs": [],
   "source": [
    "import matplotlib.lines as mlines\n",
    "\n",
    "blue_line = mlines.Line2D([], [], color='blue', marker='*',\n",
    "                          markersize=15, label='Blue stars')\n",
    "plt.legend(handles=[blue_line])\n",
    "\n",
    "plt.show()"
   ]
  },
  {
   "cell_type": "markdown",
   "metadata": {},
   "source": [
    "Legend location\n",
    "===============\n",
    "\n",
    "The location of the legend can be specified by the keyword argument\n",
    "*loc*. Please see the documentation at :func:`legend` for more details.\n",
    "\n",
    "The ``bbox_to_anchor`` keyword gives a great degree of control for manual\n",
    "legend placement. For example, if you want your axes legend located at the\n",
    "figure's top right-hand corner instead of the axes' corner, simply specify\n",
    "the corner's location, and the coordinate system of that location::\n",
    "\n",
    "    plt.legend(bbox_to_anchor=(1, 1),\n",
    "               bbox_transform=plt.gcf().transFigure)\n",
    "\n",
    "More examples of custom legend placement:\n",
    "\n"
   ]
  },
  {
   "cell_type": "code",
   "execution_count": null,
   "metadata": {},
   "outputs": [],
   "source": [
    "plt.subplot(211)\n",
    "plt.plot([1, 2, 3], label=\"test1\")\n",
    "plt.plot([3, 2, 1], label=\"test2\")\n",
    "\n",
    "# Place a legend above this subplot, expanding itself to\n",
    "# fully use the given bounding box.\n",
    "plt.legend(bbox_to_anchor=(0., 1.02, 1., .102), loc='lower left',\n",
    "           ncol=2, mode=\"expand\", borderaxespad=0.)\n",
    "\n",
    "plt.subplot(223)\n",
    "plt.plot([1, 2, 3], label=\"test1\")\n",
    "plt.plot([3, 2, 1], label=\"test2\")\n",
    "# Place a legend to the right of this smaller subplot.\n",
    "plt.legend(bbox_to_anchor=(1.05, 1), loc='upper left', borderaxespad=0.)\n",
    "\n",
    "plt.show()"
   ]
  },
  {
   "cell_type": "markdown",
   "metadata": {},
   "source": [
    "Multiple legends on the same Axes\n",
    "=================================\n",
    "\n",
    "Sometimes it is more clear to split legend entries across multiple\n",
    "legends. Whilst the instinctive approach to doing this might be to call\n",
    "the :func:`legend` function multiple times, you will find that only one\n",
    "legend ever exists on the Axes. This has been done so that it is possible\n",
    "to call :func:`legend` repeatedly to update the legend to the latest\n",
    "handles on the Axes, so to persist old legend instances, we must add them\n",
    "manually to the Axes:\n",
    "\n"
   ]
  },
  {
   "cell_type": "code",
   "execution_count": null,
   "metadata": {},
   "outputs": [],
   "source": [
    "line1, = plt.plot([1, 2, 3], label=\"Line 1\", linestyle='--')\n",
    "line2, = plt.plot([3, 2, 1], label=\"Line 2\", linewidth=4)\n",
    "\n",
    "# Create a legend for the first line.\n",
    "first_legend = plt.legend(handles=[line1], loc='upper right')\n",
    "\n",
    "# Add the legend manually to the current Axes.\n",
    "ax = plt.gca().add_artist(first_legend)\n",
    "\n",
    "# Create another legend for the second line.\n",
    "plt.legend(handles=[line2], loc='lower right')\n",
    "\n",
    "plt.show()"
   ]
  },
  {
   "cell_type": "markdown",
   "metadata": {},
   "source": [
    "Legend Handlers\n",
    "===============\n",
    "\n",
    "In order to create legend entries, handles are given as an argument to an\n",
    "appropriate :class:`~matplotlib.legend_handler.HandlerBase` subclass.\n",
    "The choice of handler subclass is determined by the following rules:\n",
    "\n",
    "    1. Update :func:`~matplotlib.legend.Legend.get_legend_handler_map`\n",
    "       with the value in the ``handler_map`` keyword.\n",
    "    2. Check if the ``handle`` is in the newly created ``handler_map``.\n",
    "    3. Check if the type of ``handle`` is in the newly created\n",
    "       ``handler_map``.\n",
    "    4. Check if any of the types in the ``handle``'s mro is in the newly\n",
    "       created ``handler_map``.\n",
    "\n",
    "For completeness, this logic is mostly implemented in\n",
    ":func:`~matplotlib.legend.Legend.get_legend_handler`.\n",
    "\n",
    "All of this flexibility means that we have the necessary hooks to implement\n",
    "custom handlers for our own type of legend key.\n",
    "\n",
    "The simplest example of using custom handlers is to instantiate one of the\n",
    "existing :class:`~matplotlib.legend_handler.HandlerBase` subclasses. For the\n",
    "sake of simplicity, let's choose :class:`matplotlib.legend_handler.HandlerLine2D`\n",
    "which accepts a ``numpoints`` argument (note numpoints is a keyword\n",
    "on the :func:`legend` function for convenience). We can then pass the mapping\n",
    "of instance to Handler as a keyword to legend.\n",
    "\n"
   ]
  },
  {
   "cell_type": "code",
   "execution_count": null,
   "metadata": {},
   "outputs": [],
   "source": [
    "from matplotlib.legend_handler import HandlerLine2D\n",
    "\n",
    "line1, = plt.plot([3, 2, 1], marker='o', label='Line 1')\n",
    "line2, = plt.plot([1, 2, 3], marker='o', label='Line 2')\n",
    "\n",
    "plt.legend(handler_map={line1: HandlerLine2D(numpoints=4)})"
   ]
  },
  {
   "cell_type": "markdown",
   "metadata": {},
   "source": [
    "As you can see, \"Line 1\" now has 4 marker points, where \"Line 2\" has 2 (the\n",
    "default). Try the above code, only change the map's key from ``line1`` to\n",
    "``type(line1)``. Notice how now both :class:`~matplotlib.lines.Line2D` instances\n",
    "get 4 markers.\n",
    "\n",
    "Along with handlers for complex plot types such as errorbars, stem plots\n",
    "and histograms, the default ``handler_map`` has a special ``tuple`` handler\n",
    "(:class:`~matplotlib.legend_handler.HandlerTuple`) which simply plots\n",
    "the handles on top of one another for each item in the given tuple. The\n",
    "following example demonstrates combining two legend keys on top of one another:\n",
    "\n"
   ]
  },
  {
   "cell_type": "code",
   "execution_count": null,
   "metadata": {},
   "outputs": [],
   "source": [
    "from numpy.random import randn\n",
    "\n",
    "z = randn(10)\n",
    "\n",
    "red_dot, = plt.plot(z, \"ro\", markersize=15)\n",
    "# Put a white cross over some of the data.\n",
    "white_cross, = plt.plot(z[:5], \"w+\", markeredgewidth=3, markersize=15)\n",
    "\n",
    "plt.legend([red_dot, (red_dot, white_cross)], [\"Attr A\", \"Attr A+B\"])"
   ]
  },
  {
   "cell_type": "markdown",
   "metadata": {},
   "source": [
    "The :class:`~matplotlib.legend_handler.HandlerTuple` class can also be used to\n",
    "assign several legend keys to the same entry:\n",
    "\n"
   ]
  },
  {
   "cell_type": "code",
   "execution_count": null,
   "metadata": {},
   "outputs": [],
   "source": [
    "from matplotlib.legend_handler import HandlerLine2D, HandlerTuple\n",
    "\n",
    "p1, = plt.plot([1, 2.5, 3], 'r-d')\n",
    "p2, = plt.plot([3, 2, 1], 'k-o')\n",
    "\n",
    "l = plt.legend([(p1, p2)], ['Two keys'], numpoints=1,\n",
    "               handler_map={tuple: HandlerTuple(ndivide=None)})"
   ]
  },
  {
   "cell_type": "markdown",
   "metadata": {},
   "source": [
    "Implementing a custom legend handler\n",
    "------------------------------------\n",
    "\n",
    "A custom handler can be implemented to turn any handle into a legend key (handles\n",
    "don't necessarily need to be matplotlib artists).\n",
    "The handler must implement a \"legend_artist\" method which returns a\n",
    "single artist for the legend to use. Signature details about the \"legend_artist\"\n",
    "are documented at :meth:`~matplotlib.legend_handler.HandlerBase.legend_artist`.\n",
    "\n"
   ]
  },
  {
   "cell_type": "code",
   "execution_count": null,
   "metadata": {},
   "outputs": [],
   "source": [
    "import matplotlib.patches as mpatches\n",
    "\n",
    "\n",
    "class AnyObject(object):\n",
    "    pass\n",
    "\n",
    "\n",
    "class AnyObjectHandler(object):\n",
    "    def legend_artist(self, legend, orig_handle, fontsize, handlebox):\n",
    "        x0, y0 = handlebox.xdescent, handlebox.ydescent\n",
    "        width, height = handlebox.width, handlebox.height\n",
    "        patch = mpatches.Rectangle([x0, y0], width, height, facecolor='red',\n",
    "                                   edgecolor='black', hatch='xx', lw=3,\n",
    "                                   transform=handlebox.get_transform())\n",
    "        handlebox.add_artist(patch)\n",
    "        return patch\n",
    "\n",
    "\n",
    "plt.legend([AnyObject()], ['My first handler'],\n",
    "           handler_map={AnyObject: AnyObjectHandler()})"
   ]
  },
  {
   "cell_type": "markdown",
   "metadata": {},
   "source": [
    "Alternatively, had we wanted to globally accept ``AnyObject`` instances without\n",
    "needing to manually set the ``handler_map`` keyword all the time, we could have\n",
    "registered the new handler with::\n",
    "\n",
    "    from matplotlib.legend import Legend\n",
    "    Legend.update_default_handler_map({AnyObject: AnyObjectHandler()})\n",
    "\n",
    "Whilst the power here is clear, remember that there are already many handlers\n",
    "implemented and what you want to achieve may already be easily possible with\n",
    "existing classes. For example, to produce elliptical legend keys, rather than\n",
    "rectangular ones:\n",
    "\n"
   ]
  },
  {
   "cell_type": "code",
   "execution_count": null,
   "metadata": {},
   "outputs": [],
   "source": [
    "from matplotlib.legend_handler import HandlerPatch\n",
    "\n",
    "\n",
    "class HandlerEllipse(HandlerPatch):\n",
    "    def create_artists(self, legend, orig_handle,\n",
    "                       xdescent, ydescent, width, height, fontsize, trans):\n",
    "        center = 0.5 * width - 0.5 * xdescent, 0.5 * height - 0.5 * ydescent\n",
    "        p = mpatches.Ellipse(xy=center, width=width + xdescent,\n",
    "                             height=height + ydescent)\n",
    "        self.update_prop(p, orig_handle, legend)\n",
    "        p.set_transform(trans)\n",
    "        return [p]\n",
    "\n",
    "\n",
    "c = mpatches.Circle((0.5, 0.5), 0.25, facecolor=\"green\",\n",
    "                    edgecolor=\"red\", linewidth=3)\n",
    "plt.gca().add_patch(c)\n",
    "\n",
    "plt.legend([c], [\"An ellipse, not a rectangle\"],\n",
    "           handler_map={mpatches.Circle: HandlerEllipse()})"
   ]
  }
 ],
 "metadata": {
  "kernelspec": {
   "display_name": "Python 3",
   "language": "python",
   "name": "python3"
  },
  "language_info": {
   "codemirror_mode": {
    "name": "ipython",
    "version": 3
   },
   "file_extension": ".py",
   "mimetype": "text/x-python",
   "name": "python",
   "nbconvert_exporter": "python",
   "pygments_lexer": "ipython3",
   "version": "3.7.4"
  }
 },
 "nbformat": 4,
 "nbformat_minor": 1
}
